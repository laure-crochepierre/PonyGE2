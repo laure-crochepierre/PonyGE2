{
 "cells": [
  {
   "cell_type": "markdown",
   "metadata": {},
   "source": [
    "# Generate data \n",
    "Use Grid2Op for data generation with specific chronics and agent\n"
   ]
  },
  {
   "cell_type": "code",
   "execution_count": 1,
   "metadata": {},
   "outputs": [],
   "source": [
    "import os\n",
    "import sys\n",
    "import grid2op\n",
    "import copy\n",
    "\n",
    "import numpy as np\n",
    "import plotly.graph_objects as go\n",
    "\n",
    "from pprint import pprint\n",
    "from tqdm.notebook import tqdm\n",
    "\n",
    "from grid2op.Agent import PowerLineSwitch, BaseAgent, DoNothing, DoNothingAgent, GreedyAgent, TopologyGreedy\n",
    "from grid2op.Reward import L2RPNReward, L2RPNSandBoxScore\n",
    "from grid2op.Runner import Runner\n",
    "from grid2op.Parameters import Parameters\n",
    "\n",
    "from lightsim2grid import LightSimBackend\n",
    "backend = LightSimBackend()\n",
    "\n",
    "max_iter = 1300"
   ]
  },
  {
   "cell_type": "code",
   "execution_count": 2,
   "metadata": {},
   "outputs": [],
   "source": [
    "param = Parameters()\n",
    "param.MAX_SUB_CHANGED = 99999\n",
    "param.MAX_LINE_STATUS_CHANGED = 9999\n",
    "\n",
    "# Parameters to define for overflow discarding\n",
    "param.NB_TIMESTEP_COOLDOWN_SUB = 0\n",
    "param.NB_TIMESTEP_COOLDOWN_LINE = 0\n",
    "param.NB_TIMESTEP_RECONNECTION = 0\n",
    "param.NB_TIMESTEP_OVERFLOW_ALLOWED = 9999\n",
    "param.NO_OVERFLOW_DISCONNECTION = True\n",
    "\n",
    "#param.NO_OVERFLOW_DISCONNECTION = True\n",
    "#param.HARD_OVERFLOW_THRESHOLD = 9999"
   ]
  },
  {
   "cell_type": "code",
   "execution_count": 3,
   "metadata": {},
   "outputs": [],
   "source": [
    "scenario = \"rte_case14_realistic\"\n",
    "agent_name = \"DoNothingAgent\"\n",
    "agent_class = DoNothingAgent"
   ]
  },
  {
   "cell_type": "code",
   "execution_count": 4,
   "metadata": {},
   "outputs": [],
   "source": [
    "path_agents = scenario"
   ]
  },
  {
   "cell_type": "code",
   "execution_count": 5,
   "metadata": {
    "scrolled": true
   },
   "outputs": [
    {
     "name": "stdout",
     "output_type": "stream",
     "text": [
      "{'actionClass': <class 'grid2op.Action.TopologyAndDispatchAction.TopologyAndDispatchAction'>,\n",
      " 'backendClass': <class 'lightsim2grid.LightSimBackend.LightSimBackend'>,\n",
      " 'envClass': <class 'grid2op.Environment.Environment.Environment'>,\n",
      " 'gridStateclass': <class 'grid2op.Chronics.MultiFolder.Multifolder'>,\n",
      " 'gridStateclass_kwargs': {'gridvalueClass': <class 'grid2op.Chronics.GridStateFromFileWithForecasts.GridStateFromFileWithForecasts'>},\n",
      " 'grid_layout': {'sub_0': (-280.0, -81.0),\n",
      "                 'sub_1': (-100.0, -270.0),\n",
      "                 'sub_10': (79.0, 162.0),\n",
      "                 'sub_11': (-170.0, 270.0),\n",
      "                 'sub_12': (-64.0, 270.0),\n",
      "                 'sub_13': (222.0, 216.0),\n",
      "                 'sub_2': (366.0, -270.0),\n",
      "                 'sub_3': (366.0, -54.0),\n",
      "                 'sub_4': (-64.0, -54.0),\n",
      "                 'sub_5': (-64.0, 54.0),\n",
      "                 'sub_6': (450.0, 0.0),\n",
      "                 'sub_7': (550.0, 0.0),\n",
      "                 'sub_8': (326.0, 54.0),\n",
      "                 'sub_9': (222.0, 108.0)},\n",
      " 'init_grid_path': '/home/crochepierrelau/data_grid2op/rte_case14_realistic/grid.json',\n",
      " 'legalActClass': <class 'grid2op.Rules.DefaultRules.DefaultRules'>,\n",
      " 'name_env': 'rte_case14_realistic',\n",
      " 'names_chronics_to_backend': {},\n",
      " 'observationClass': <class 'grid2op.Observation.CompleteObservation.CompleteObservation'>,\n",
      " 'opponent_action_class': <class 'grid2op.Action.DontAct.DontAct'>,\n",
      " 'opponent_attack_cooldown': 99999,\n",
      " 'opponent_attack_duration': 0,\n",
      " 'opponent_budget_class': <class 'grid2op.Opponent.NeverAttackBudget.NeverAttackBudget'>,\n",
      " 'opponent_budget_per_ts': 0.0,\n",
      " 'opponent_class': <class 'grid2op.Opponent.BaseOpponent.BaseOpponent'>,\n",
      " 'opponent_init_budget': 0.0,\n",
      " 'opponent_kwargs': {},\n",
      " 'other_rewards': {},\n",
      " 'parameters_path': {'ALLOW_DISPATCH_GEN_SWITCH_OFF': True,\n",
      "                     'ENV_DC': False,\n",
      "                     'FORECAST_DC': False,\n",
      "                     'HARD_OVERFLOW_THRESHOLD': 2.0,\n",
      "                     'IGNORE_MIN_UP_DOWN_TIME': True,\n",
      "                     'MAX_LINE_STATUS_CHANGED': 9999,\n",
      "                     'MAX_SUB_CHANGED': 99999,\n",
      "                     'NB_TIMESTEP_COOLDOWN_LINE': 0,\n",
      "                     'NB_TIMESTEP_COOLDOWN_SUB': 0,\n",
      "                     'NB_TIMESTEP_OVERFLOW_ALLOWED': 9999,\n",
      "                     'NB_TIMESTEP_RECONNECTION': 0,\n",
      "                     'NO_OVERFLOW_DISCONNECTION': True},\n",
      " 'path_chron': '/home/crochepierrelau/data_grid2op/rte_case14_realistic/chronics',\n",
      " 'rewardClass': <class 'grid2op.Reward.RedispReward.RedispReward'>,\n",
      " 'thermal_limit_a': array([1.e+20, 1.e+20, 1.e+20, 1.e+20, 1.e+20, 1.e+20, 1.e+20, 1.e+20,\n",
      "       1.e+20, 1.e+20, 1.e+20, 1.e+20, 1.e+20, 1.e+20, 1.e+20, 1.e+20,\n",
      "       1.e+20, 1.e+20, 1.e+20, 1.e+20], dtype=float32),\n",
      " 'verbose': False,\n",
      " 'voltageControlerClass': <class 'grid2op.VoltageControler.ControlVoltageFromFile.ControlVoltageFromFile'>}\n"
     ]
    },
    {
     "data": {
      "application/vnd.jupyter.widget-view+json": {
       "model_id": "6f5cc570f2f845ab9dd83d1b38a206ba",
       "version_major": 2,
       "version_minor": 0
      },
      "text/plain": [
       "HBox(children=(HTML(value='episode'), FloatProgress(value=0.0), HTML(value='')))"
      ]
     },
     "metadata": {},
     "output_type": "display_data"
    },
    {
     "data": {
      "application/vnd.jupyter.widget-view+json": {
       "model_id": "31d496a93dac4c7fb84bb0ab7a3dd437",
       "version_major": 2,
       "version_minor": 0
      },
      "text/plain": [
       "HBox(children=(HTML(value='episode'), FloatProgress(value=0.0, max=1300.0), HTML(value='')))"
      ]
     },
     "metadata": {},
     "output_type": "display_data"
    },
    {
     "name": "stdout",
     "output_type": "stream",
     "text": [
      "\n"
     ]
    },
    {
     "data": {
      "application/vnd.jupyter.widget-view+json": {
       "model_id": "cce7035efcd84350a7b0702b55cd5a3c",
       "version_major": 2,
       "version_minor": 0
      },
      "text/plain": [
       "HBox(children=(HTML(value='episode'), FloatProgress(value=0.0, max=1300.0), HTML(value='')))"
      ]
     },
     "metadata": {},
     "output_type": "display_data"
    },
    {
     "name": "stdout",
     "output_type": "stream",
     "text": [
      "\n"
     ]
    },
    {
     "data": {
      "application/vnd.jupyter.widget-view+json": {
       "model_id": "9a13dde61f4f4e41979efa89dcb2276f",
       "version_major": 2,
       "version_minor": 0
      },
      "text/plain": [
       "HBox(children=(HTML(value='episode'), FloatProgress(value=0.0, max=1300.0), HTML(value='')))"
      ]
     },
     "metadata": {},
     "output_type": "display_data"
    },
    {
     "name": "stdout",
     "output_type": "stream",
     "text": [
      "\n"
     ]
    },
    {
     "data": {
      "application/vnd.jupyter.widget-view+json": {
       "model_id": "c9982f6ab38e488480d69d74edaf421d",
       "version_major": 2,
       "version_minor": 0
      },
      "text/plain": [
       "HBox(children=(HTML(value='episode'), FloatProgress(value=0.0, max=1300.0), HTML(value='')))"
      ]
     },
     "metadata": {},
     "output_type": "display_data"
    },
    {
     "name": "stdout",
     "output_type": "stream",
     "text": [
      "\n"
     ]
    },
    {
     "data": {
      "application/vnd.jupyter.widget-view+json": {
       "model_id": "9182b21af6854fecb51a71d3e6df5379",
       "version_major": 2,
       "version_minor": 0
      },
      "text/plain": [
       "HBox(children=(HTML(value='episode'), FloatProgress(value=0.0, max=1300.0), HTML(value='')))"
      ]
     },
     "metadata": {},
     "output_type": "display_data"
    },
    {
     "name": "stdout",
     "output_type": "stream",
     "text": [
      "\n"
     ]
    },
    {
     "data": {
      "application/vnd.jupyter.widget-view+json": {
       "model_id": "6f45f6087fad40fc98f839ab6ceb1e91",
       "version_major": 2,
       "version_minor": 0
      },
      "text/plain": [
       "HBox(children=(HTML(value='episode'), FloatProgress(value=0.0, max=1300.0), HTML(value='')))"
      ]
     },
     "metadata": {},
     "output_type": "display_data"
    },
    {
     "name": "stdout",
     "output_type": "stream",
     "text": [
      "\n"
     ]
    },
    {
     "data": {
      "application/vnd.jupyter.widget-view+json": {
       "model_id": "6718b3928d804f028a90ea8c9d5eb096",
       "version_major": 2,
       "version_minor": 0
      },
      "text/plain": [
       "HBox(children=(HTML(value='episode'), FloatProgress(value=0.0, max=1300.0), HTML(value='')))"
      ]
     },
     "metadata": {},
     "output_type": "display_data"
    },
    {
     "name": "stdout",
     "output_type": "stream",
     "text": [
      "\n"
     ]
    },
    {
     "data": {
      "application/vnd.jupyter.widget-view+json": {
       "model_id": "87751d6b3ce24e3881b22564943521eb",
       "version_major": 2,
       "version_minor": 0
      },
      "text/plain": [
       "HBox(children=(HTML(value='episode'), FloatProgress(value=0.0, max=1300.0), HTML(value='')))"
      ]
     },
     "metadata": {},
     "output_type": "display_data"
    },
    {
     "name": "stdout",
     "output_type": "stream",
     "text": [
      "\n"
     ]
    },
    {
     "data": {
      "application/vnd.jupyter.widget-view+json": {
       "model_id": "044b90f6bafb4a06987855c84509ddd6",
       "version_major": 2,
       "version_minor": 0
      },
      "text/plain": [
       "HBox(children=(HTML(value='episode'), FloatProgress(value=0.0, max=1300.0), HTML(value='')))"
      ]
     },
     "metadata": {},
     "output_type": "display_data"
    },
    {
     "name": "stdout",
     "output_type": "stream",
     "text": [
      "\n"
     ]
    },
    {
     "data": {
      "application/vnd.jupyter.widget-view+json": {
       "model_id": "6dc1e3c0f18f43358d8757a956a42416",
       "version_major": 2,
       "version_minor": 0
      },
      "text/plain": [
       "HBox(children=(HTML(value='episode'), FloatProgress(value=0.0, max=1300.0), HTML(value='')))"
      ]
     },
     "metadata": {},
     "output_type": "display_data"
    },
    {
     "name": "stdout",
     "output_type": "stream",
     "text": [
      "\n"
     ]
    },
    {
     "data": {
      "application/vnd.jupyter.widget-view+json": {
       "model_id": "59bb194e059745b6b1d136481d99bed2",
       "version_major": 2,
       "version_minor": 0
      },
      "text/plain": [
       "HBox(children=(HTML(value='episode'), FloatProgress(value=0.0, max=1300.0), HTML(value='')))"
      ]
     },
     "metadata": {},
     "output_type": "display_data"
    },
    {
     "name": "stdout",
     "output_type": "stream",
     "text": [
      "\n"
     ]
    },
    {
     "data": {
      "application/vnd.jupyter.widget-view+json": {
       "model_id": "7ff2adfc17f941199627486511baad13",
       "version_major": 2,
       "version_minor": 0
      },
      "text/plain": [
       "HBox(children=(HTML(value='episode'), FloatProgress(value=0.0, max=1300.0), HTML(value='')))"
      ]
     },
     "metadata": {},
     "output_type": "display_data"
    },
    {
     "name": "stdout",
     "output_type": "stream",
     "text": [
      "\n"
     ]
    },
    {
     "data": {
      "application/vnd.jupyter.widget-view+json": {
       "model_id": "cfdf9309d03e445a83826f1c5e896fc3",
       "version_major": 2,
       "version_minor": 0
      },
      "text/plain": [
       "HBox(children=(HTML(value='episode'), FloatProgress(value=0.0, max=1300.0), HTML(value='')))"
      ]
     },
     "metadata": {},
     "output_type": "display_data"
    },
    {
     "name": "stdout",
     "output_type": "stream",
     "text": [
      "\n"
     ]
    },
    {
     "data": {
      "application/vnd.jupyter.widget-view+json": {
       "model_id": "c7d253258cad43378bada31ea1a8b8ba",
       "version_major": 2,
       "version_minor": 0
      },
      "text/plain": [
       "HBox(children=(HTML(value='episode'), FloatProgress(value=0.0, max=1300.0), HTML(value='')))"
      ]
     },
     "metadata": {},
     "output_type": "display_data"
    },
    {
     "name": "stdout",
     "output_type": "stream",
     "text": [
      "\n"
     ]
    },
    {
     "data": {
      "application/vnd.jupyter.widget-view+json": {
       "model_id": "c14dbe82ccbd4ee5af63d13d46264c77",
       "version_major": 2,
       "version_minor": 0
      },
      "text/plain": [
       "HBox(children=(HTML(value='episode'), FloatProgress(value=0.0, max=1300.0), HTML(value='')))"
      ]
     },
     "metadata": {},
     "output_type": "display_data"
    },
    {
     "name": "stdout",
     "output_type": "stream",
     "text": [
      "\n"
     ]
    },
    {
     "data": {
      "application/vnd.jupyter.widget-view+json": {
       "model_id": "380d10c67acb45cd964e0c99e55f117e",
       "version_major": 2,
       "version_minor": 0
      },
      "text/plain": [
       "HBox(children=(HTML(value='episode'), FloatProgress(value=0.0, max=1300.0), HTML(value='')))"
      ]
     },
     "metadata": {},
     "output_type": "display_data"
    },
    {
     "name": "stdout",
     "output_type": "stream",
     "text": [
      "\n"
     ]
    },
    {
     "data": {
      "application/vnd.jupyter.widget-view+json": {
       "model_id": "914764bd399f48c0a003f63f7f9fecfc",
       "version_major": 2,
       "version_minor": 0
      },
      "text/plain": [
       "HBox(children=(HTML(value='episode'), FloatProgress(value=0.0, max=1300.0), HTML(value='')))"
      ]
     },
     "metadata": {},
     "output_type": "display_data"
    },
    {
     "name": "stdout",
     "output_type": "stream",
     "text": [
      "\n"
     ]
    },
    {
     "data": {
      "application/vnd.jupyter.widget-view+json": {
       "model_id": "3e6c7e6c392e4587b2bb42197134e253",
       "version_major": 2,
       "version_minor": 0
      },
      "text/plain": [
       "HBox(children=(HTML(value='episode'), FloatProgress(value=0.0, max=1300.0), HTML(value='')))"
      ]
     },
     "metadata": {},
     "output_type": "display_data"
    },
    {
     "name": "stdout",
     "output_type": "stream",
     "text": [
      "\n"
     ]
    },
    {
     "data": {
      "application/vnd.jupyter.widget-view+json": {
       "model_id": "c0a9784d5e914bb39d0789cf800b7fad",
       "version_major": 2,
       "version_minor": 0
      },
      "text/plain": [
       "HBox(children=(HTML(value='episode'), FloatProgress(value=0.0, max=1300.0), HTML(value='')))"
      ]
     },
     "metadata": {},
     "output_type": "display_data"
    },
    {
     "name": "stdout",
     "output_type": "stream",
     "text": [
      "\n"
     ]
    },
    {
     "data": {
      "application/vnd.jupyter.widget-view+json": {
       "model_id": "49d97ee8c54a49b2b85ef74baaf9bb33",
       "version_major": 2,
       "version_minor": 0
      },
      "text/plain": [
       "HBox(children=(HTML(value='episode'), FloatProgress(value=0.0, max=1300.0), HTML(value='')))"
      ]
     },
     "metadata": {},
     "output_type": "display_data"
    },
    {
     "name": "stdout",
     "output_type": "stream",
     "text": [
      "\n"
     ]
    },
    {
     "data": {
      "application/vnd.jupyter.widget-view+json": {
       "model_id": "18be5f250a3449ce856c259f9b9767ce",
       "version_major": 2,
       "version_minor": 0
      },
      "text/plain": [
       "HBox(children=(HTML(value='episode'), FloatProgress(value=0.0, max=1300.0), HTML(value='')))"
      ]
     },
     "metadata": {},
     "output_type": "display_data"
    },
    {
     "name": "stdout",
     "output_type": "stream",
     "text": [
      "\n"
     ]
    },
    {
     "data": {
      "application/vnd.jupyter.widget-view+json": {
       "model_id": "6d38bada7d6d40fb93d25d96f988ea90",
       "version_major": 2,
       "version_minor": 0
      },
      "text/plain": [
       "HBox(children=(HTML(value='episode'), FloatProgress(value=0.0, max=1300.0), HTML(value='')))"
      ]
     },
     "metadata": {},
     "output_type": "display_data"
    },
    {
     "name": "stdout",
     "output_type": "stream",
     "text": [
      "\n"
     ]
    },
    {
     "data": {
      "application/vnd.jupyter.widget-view+json": {
       "model_id": "daf4560e8fd24f58a100c9785399a301",
       "version_major": 2,
       "version_minor": 0
      },
      "text/plain": [
       "HBox(children=(HTML(value='episode'), FloatProgress(value=0.0, max=1300.0), HTML(value='')))"
      ]
     },
     "metadata": {},
     "output_type": "display_data"
    },
    {
     "name": "stdout",
     "output_type": "stream",
     "text": [
      "\n"
     ]
    },
    {
     "data": {
      "application/vnd.jupyter.widget-view+json": {
       "model_id": "5676d10a32374167aecc171f319cf385",
       "version_major": 2,
       "version_minor": 0
      },
      "text/plain": [
       "HBox(children=(HTML(value='episode'), FloatProgress(value=0.0, max=1300.0), HTML(value='')))"
      ]
     },
     "metadata": {},
     "output_type": "display_data"
    },
    {
     "name": "stdout",
     "output_type": "stream",
     "text": [
      "\n"
     ]
    },
    {
     "data": {
      "application/vnd.jupyter.widget-view+json": {
       "model_id": "aa4ab7e00bf5406ab4ffe565593382da",
       "version_major": 2,
       "version_minor": 0
      },
      "text/plain": [
       "HBox(children=(HTML(value='episode'), FloatProgress(value=0.0, max=1300.0), HTML(value='')))"
      ]
     },
     "metadata": {},
     "output_type": "display_data"
    },
    {
     "name": "stdout",
     "output_type": "stream",
     "text": [
      "\n"
     ]
    },
    {
     "data": {
      "application/vnd.jupyter.widget-view+json": {
       "model_id": "f9fda9614e2d4f9b83c719bf99e23cba",
       "version_major": 2,
       "version_minor": 0
      },
      "text/plain": [
       "HBox(children=(HTML(value='episode'), FloatProgress(value=0.0, max=1300.0), HTML(value='')))"
      ]
     },
     "metadata": {},
     "output_type": "display_data"
    },
    {
     "name": "stdout",
     "output_type": "stream",
     "text": [
      "\n"
     ]
    },
    {
     "data": {
      "application/vnd.jupyter.widget-view+json": {
       "model_id": "0dba8618895140a8aef9ad0a1d3704cb",
       "version_major": 2,
       "version_minor": 0
      },
      "text/plain": [
       "HBox(children=(HTML(value='episode'), FloatProgress(value=0.0, max=1300.0), HTML(value='')))"
      ]
     },
     "metadata": {},
     "output_type": "display_data"
    },
    {
     "name": "stdout",
     "output_type": "stream",
     "text": [
      "\n"
     ]
    },
    {
     "data": {
      "application/vnd.jupyter.widget-view+json": {
       "model_id": "2a15b793766d47ccb11e6d1620859f22",
       "version_major": 2,
       "version_minor": 0
      },
      "text/plain": [
       "HBox(children=(HTML(value='episode'), FloatProgress(value=0.0, max=1300.0), HTML(value='')))"
      ]
     },
     "metadata": {},
     "output_type": "display_data"
    },
    {
     "name": "stdout",
     "output_type": "stream",
     "text": [
      "\n"
     ]
    },
    {
     "data": {
      "application/vnd.jupyter.widget-view+json": {
       "model_id": "bd6a7fa28f304c0592f1d09b59b87a7a",
       "version_major": 2,
       "version_minor": 0
      },
      "text/plain": [
       "HBox(children=(HTML(value='episode'), FloatProgress(value=0.0, max=1300.0), HTML(value='')))"
      ]
     },
     "metadata": {},
     "output_type": "display_data"
    },
    {
     "name": "stdout",
     "output_type": "stream",
     "text": [
      "\n"
     ]
    },
    {
     "data": {
      "application/vnd.jupyter.widget-view+json": {
       "model_id": "dc2c834facc34cb6993c5a5a6eedbc9a",
       "version_major": 2,
       "version_minor": 0
      },
      "text/plain": [
       "HBox(children=(HTML(value='episode'), FloatProgress(value=0.0, max=1300.0), HTML(value='')))"
      ]
     },
     "metadata": {},
     "output_type": "display_data"
    },
    {
     "name": "stdout",
     "output_type": "stream",
     "text": [
      "\n"
     ]
    },
    {
     "data": {
      "application/vnd.jupyter.widget-view+json": {
       "model_id": "a5b2f440c73b4d65ac41826cde94e0ae",
       "version_major": 2,
       "version_minor": 0
      },
      "text/plain": [
       "HBox(children=(HTML(value='episode'), FloatProgress(value=0.0, max=1300.0), HTML(value='')))"
      ]
     },
     "metadata": {},
     "output_type": "display_data"
    },
    {
     "name": "stdout",
     "output_type": "stream",
     "text": [
      "\n"
     ]
    },
    {
     "data": {
      "application/vnd.jupyter.widget-view+json": {
       "model_id": "a039e179b5274c6798fee696bfb4ec29",
       "version_major": 2,
       "version_minor": 0
      },
      "text/plain": [
       "HBox(children=(HTML(value='episode'), FloatProgress(value=0.0, max=1300.0), HTML(value='')))"
      ]
     },
     "metadata": {},
     "output_type": "display_data"
    },
    {
     "name": "stdout",
     "output_type": "stream",
     "text": [
      "\n"
     ]
    },
    {
     "data": {
      "application/vnd.jupyter.widget-view+json": {
       "model_id": "2cc47da7cbef4753a1010a2bfd82e18d",
       "version_major": 2,
       "version_minor": 0
      },
      "text/plain": [
       "HBox(children=(HTML(value='episode'), FloatProgress(value=0.0, max=1300.0), HTML(value='')))"
      ]
     },
     "metadata": {},
     "output_type": "display_data"
    },
    {
     "name": "stdout",
     "output_type": "stream",
     "text": [
      "\n"
     ]
    },
    {
     "data": {
      "application/vnd.jupyter.widget-view+json": {
       "model_id": "a0bc4f26b5a145b89771248936abc186",
       "version_major": 2,
       "version_minor": 0
      },
      "text/plain": [
       "HBox(children=(HTML(value='episode'), FloatProgress(value=0.0, max=1300.0), HTML(value='')))"
      ]
     },
     "metadata": {},
     "output_type": "display_data"
    },
    {
     "name": "stdout",
     "output_type": "stream",
     "text": [
      "\n"
     ]
    },
    {
     "data": {
      "application/vnd.jupyter.widget-view+json": {
       "model_id": "017114c7d2264adb8b116f9cffc9ca9f",
       "version_major": 2,
       "version_minor": 0
      },
      "text/plain": [
       "HBox(children=(HTML(value='episode'), FloatProgress(value=0.0, max=1300.0), HTML(value='')))"
      ]
     },
     "metadata": {},
     "output_type": "display_data"
    },
    {
     "name": "stdout",
     "output_type": "stream",
     "text": [
      "\n"
     ]
    },
    {
     "data": {
      "application/vnd.jupyter.widget-view+json": {
       "model_id": "20e1b97516104fbba11b7cff51c3e3e7",
       "version_major": 2,
       "version_minor": 0
      },
      "text/plain": [
       "HBox(children=(HTML(value='episode'), FloatProgress(value=0.0, max=1300.0), HTML(value='')))"
      ]
     },
     "metadata": {},
     "output_type": "display_data"
    },
    {
     "name": "stdout",
     "output_type": "stream",
     "text": [
      "\n"
     ]
    },
    {
     "data": {
      "application/vnd.jupyter.widget-view+json": {
       "model_id": "aed74436060649c1a7ae66d0a7597b17",
       "version_major": 2,
       "version_minor": 0
      },
      "text/plain": [
       "HBox(children=(HTML(value='episode'), FloatProgress(value=0.0, max=1300.0), HTML(value='')))"
      ]
     },
     "metadata": {},
     "output_type": "display_data"
    },
    {
     "name": "stdout",
     "output_type": "stream",
     "text": [
      "\n"
     ]
    },
    {
     "data": {
      "application/vnd.jupyter.widget-view+json": {
       "model_id": "c89d3d1d40b4494aac74047d4f1e528e",
       "version_major": 2,
       "version_minor": 0
      },
      "text/plain": [
       "HBox(children=(HTML(value='episode'), FloatProgress(value=0.0, max=1300.0), HTML(value='')))"
      ]
     },
     "metadata": {},
     "output_type": "display_data"
    },
    {
     "name": "stdout",
     "output_type": "stream",
     "text": [
      "\n"
     ]
    },
    {
     "data": {
      "application/vnd.jupyter.widget-view+json": {
       "model_id": "b4a0c34141a34e58bc9a090e8c2a4d6b",
       "version_major": 2,
       "version_minor": 0
      },
      "text/plain": [
       "HBox(children=(HTML(value='episode'), FloatProgress(value=0.0, max=1300.0), HTML(value='')))"
      ]
     },
     "metadata": {},
     "output_type": "display_data"
    },
    {
     "name": "stdout",
     "output_type": "stream",
     "text": [
      "\n"
     ]
    },
    {
     "data": {
      "application/vnd.jupyter.widget-view+json": {
       "model_id": "c5abbc3ef607471d84426274d419f464",
       "version_major": 2,
       "version_minor": 0
      },
      "text/plain": [
       "HBox(children=(HTML(value='episode'), FloatProgress(value=0.0, max=1300.0), HTML(value='')))"
      ]
     },
     "metadata": {},
     "output_type": "display_data"
    },
    {
     "name": "stdout",
     "output_type": "stream",
     "text": [
      "\n"
     ]
    },
    {
     "data": {
      "application/vnd.jupyter.widget-view+json": {
       "model_id": "25d62dffa40b44eba91fb7f8d4795261",
       "version_major": 2,
       "version_minor": 0
      },
      "text/plain": [
       "HBox(children=(HTML(value='episode'), FloatProgress(value=0.0, max=1300.0), HTML(value='')))"
      ]
     },
     "metadata": {},
     "output_type": "display_data"
    },
    {
     "name": "stdout",
     "output_type": "stream",
     "text": [
      "\n"
     ]
    },
    {
     "data": {
      "application/vnd.jupyter.widget-view+json": {
       "model_id": "0d05b4a859994a089057883c7eee72f5",
       "version_major": 2,
       "version_minor": 0
      },
      "text/plain": [
       "HBox(children=(HTML(value='episode'), FloatProgress(value=0.0, max=1300.0), HTML(value='')))"
      ]
     },
     "metadata": {},
     "output_type": "display_data"
    },
    {
     "name": "stdout",
     "output_type": "stream",
     "text": [
      "\n"
     ]
    },
    {
     "data": {
      "application/vnd.jupyter.widget-view+json": {
       "model_id": "7f863d87fa8c4a539c600f605f9a5451",
       "version_major": 2,
       "version_minor": 0
      },
      "text/plain": [
       "HBox(children=(HTML(value='episode'), FloatProgress(value=0.0, max=1300.0), HTML(value='')))"
      ]
     },
     "metadata": {},
     "output_type": "display_data"
    },
    {
     "name": "stdout",
     "output_type": "stream",
     "text": [
      "\n"
     ]
    },
    {
     "data": {
      "application/vnd.jupyter.widget-view+json": {
       "model_id": "a244bfba0028410d9a56de83eecb0f60",
       "version_major": 2,
       "version_minor": 0
      },
      "text/plain": [
       "HBox(children=(HTML(value='episode'), FloatProgress(value=0.0, max=1300.0), HTML(value='')))"
      ]
     },
     "metadata": {},
     "output_type": "display_data"
    },
    {
     "name": "stdout",
     "output_type": "stream",
     "text": [
      "\n"
     ]
    },
    {
     "data": {
      "application/vnd.jupyter.widget-view+json": {
       "model_id": "ceef0e950b8d455ab828ce90edef59e6",
       "version_major": 2,
       "version_minor": 0
      },
      "text/plain": [
       "HBox(children=(HTML(value='episode'), FloatProgress(value=0.0, max=1300.0), HTML(value='')))"
      ]
     },
     "metadata": {},
     "output_type": "display_data"
    },
    {
     "name": "stdout",
     "output_type": "stream",
     "text": [
      "\n"
     ]
    },
    {
     "data": {
      "application/vnd.jupyter.widget-view+json": {
       "model_id": "5b50d4a0b00c4a09a64e09e85241c92a",
       "version_major": 2,
       "version_minor": 0
      },
      "text/plain": [
       "HBox(children=(HTML(value='episode'), FloatProgress(value=0.0, max=1300.0), HTML(value='')))"
      ]
     },
     "metadata": {},
     "output_type": "display_data"
    },
    {
     "name": "stdout",
     "output_type": "stream",
     "text": [
      "\n"
     ]
    },
    {
     "data": {
      "application/vnd.jupyter.widget-view+json": {
       "model_id": "2f31059c4bdd43f8acca7781cdb05448",
       "version_major": 2,
       "version_minor": 0
      },
      "text/plain": [
       "HBox(children=(HTML(value='episode'), FloatProgress(value=0.0, max=1300.0), HTML(value='')))"
      ]
     },
     "metadata": {},
     "output_type": "display_data"
    },
    {
     "name": "stdout",
     "output_type": "stream",
     "text": [
      "\n"
     ]
    },
    {
     "data": {
      "application/vnd.jupyter.widget-view+json": {
       "model_id": "0c82ed4016ed4084a602515f3ccb2e5c",
       "version_major": 2,
       "version_minor": 0
      },
      "text/plain": [
       "HBox(children=(HTML(value='episode'), FloatProgress(value=0.0, max=1300.0), HTML(value='')))"
      ]
     },
     "metadata": {},
     "output_type": "display_data"
    },
    {
     "name": "stdout",
     "output_type": "stream",
     "text": [
      "\n"
     ]
    },
    {
     "data": {
      "application/vnd.jupyter.widget-view+json": {
       "model_id": "4f10ccaf7e3a407c9a18ae0431ec5a12",
       "version_major": 2,
       "version_minor": 0
      },
      "text/plain": [
       "HBox(children=(HTML(value='episode'), FloatProgress(value=0.0, max=1300.0), HTML(value='')))"
      ]
     },
     "metadata": {},
     "output_type": "display_data"
    },
    {
     "name": "stdout",
     "output_type": "stream",
     "text": [
      "\n"
     ]
    },
    {
     "data": {
      "application/vnd.jupyter.widget-view+json": {
       "model_id": "c66bb1a2ffd44c7b94e307c236dec303",
       "version_major": 2,
       "version_minor": 0
      },
      "text/plain": [
       "HBox(children=(HTML(value='episode'), FloatProgress(value=0.0, max=1300.0), HTML(value='')))"
      ]
     },
     "metadata": {},
     "output_type": "display_data"
    },
    {
     "name": "stdout",
     "output_type": "stream",
     "text": [
      "\n"
     ]
    },
    {
     "data": {
      "application/vnd.jupyter.widget-view+json": {
       "model_id": "ebf51996ead448d49f1057c887436c3f",
       "version_major": 2,
       "version_minor": 0
      },
      "text/plain": [
       "HBox(children=(HTML(value='episode'), FloatProgress(value=0.0, max=1300.0), HTML(value='')))"
      ]
     },
     "metadata": {},
     "output_type": "display_data"
    },
    {
     "name": "stdout",
     "output_type": "stream",
     "text": [
      "\n"
     ]
    },
    {
     "data": {
      "application/vnd.jupyter.widget-view+json": {
       "model_id": "52a46566d3b140d58e079bc45c12c170",
       "version_major": 2,
       "version_minor": 0
      },
      "text/plain": [
       "HBox(children=(HTML(value='episode'), FloatProgress(value=0.0, max=1300.0), HTML(value='')))"
      ]
     },
     "metadata": {},
     "output_type": "display_data"
    },
    {
     "name": "stdout",
     "output_type": "stream",
     "text": [
      "\n"
     ]
    },
    {
     "data": {
      "application/vnd.jupyter.widget-view+json": {
       "model_id": "3720122115434ef4b23eb7f7eb12c87d",
       "version_major": 2,
       "version_minor": 0
      },
      "text/plain": [
       "HBox(children=(HTML(value='episode'), FloatProgress(value=0.0, max=1300.0), HTML(value='')))"
      ]
     },
     "metadata": {},
     "output_type": "display_data"
    },
    {
     "name": "stdout",
     "output_type": "stream",
     "text": [
      "\n"
     ]
    },
    {
     "data": {
      "application/vnd.jupyter.widget-view+json": {
       "model_id": "8c1dbd515f2d4c6db929b9968cb4c408",
       "version_major": 2,
       "version_minor": 0
      },
      "text/plain": [
       "HBox(children=(HTML(value='episode'), FloatProgress(value=0.0, max=1300.0), HTML(value='')))"
      ]
     },
     "metadata": {},
     "output_type": "display_data"
    },
    {
     "name": "stdout",
     "output_type": "stream",
     "text": [
      "\n"
     ]
    },
    {
     "data": {
      "application/vnd.jupyter.widget-view+json": {
       "model_id": "a92a5577d528409981acb58142bfdf23",
       "version_major": 2,
       "version_minor": 0
      },
      "text/plain": [
       "HBox(children=(HTML(value='episode'), FloatProgress(value=0.0, max=1300.0), HTML(value='')))"
      ]
     },
     "metadata": {},
     "output_type": "display_data"
    },
    {
     "name": "stdout",
     "output_type": "stream",
     "text": [
      "\n"
     ]
    },
    {
     "data": {
      "application/vnd.jupyter.widget-view+json": {
       "model_id": "553136258de249239abf2a56d7151d1b",
       "version_major": 2,
       "version_minor": 0
      },
      "text/plain": [
       "HBox(children=(HTML(value='episode'), FloatProgress(value=0.0, max=1300.0), HTML(value='')))"
      ]
     },
     "metadata": {},
     "output_type": "display_data"
    },
    {
     "name": "stdout",
     "output_type": "stream",
     "text": [
      "\n"
     ]
    },
    {
     "data": {
      "application/vnd.jupyter.widget-view+json": {
       "model_id": "8be64a1c763345ada7cea634180f573f",
       "version_major": 2,
       "version_minor": 0
      },
      "text/plain": [
       "HBox(children=(HTML(value='episode'), FloatProgress(value=0.0, max=1300.0), HTML(value='')))"
      ]
     },
     "metadata": {},
     "output_type": "display_data"
    },
    {
     "name": "stdout",
     "output_type": "stream",
     "text": [
      "\n"
     ]
    },
    {
     "data": {
      "application/vnd.jupyter.widget-view+json": {
       "model_id": "fe43bc9a810747aba7955b93f89d2670",
       "version_major": 2,
       "version_minor": 0
      },
      "text/plain": [
       "HBox(children=(HTML(value='episode'), FloatProgress(value=0.0, max=1300.0), HTML(value='')))"
      ]
     },
     "metadata": {},
     "output_type": "display_data"
    },
    {
     "name": "stdout",
     "output_type": "stream",
     "text": [
      "\n"
     ]
    },
    {
     "data": {
      "application/vnd.jupyter.widget-view+json": {
       "model_id": "b475ee58c7ce4fcc9035b2efa72d67c5",
       "version_major": 2,
       "version_minor": 0
      },
      "text/plain": [
       "HBox(children=(HTML(value='episode'), FloatProgress(value=0.0, max=1300.0), HTML(value='')))"
      ]
     },
     "metadata": {},
     "output_type": "display_data"
    },
    {
     "name": "stdout",
     "output_type": "stream",
     "text": [
      "\n"
     ]
    },
    {
     "data": {
      "application/vnd.jupyter.widget-view+json": {
       "model_id": "fccfb136a24b4fcdb3cd04a6b555f9eb",
       "version_major": 2,
       "version_minor": 0
      },
      "text/plain": [
       "HBox(children=(HTML(value='episode'), FloatProgress(value=0.0, max=1300.0), HTML(value='')))"
      ]
     },
     "metadata": {},
     "output_type": "display_data"
    },
    {
     "name": "stdout",
     "output_type": "stream",
     "text": [
      "\n"
     ]
    },
    {
     "data": {
      "application/vnd.jupyter.widget-view+json": {
       "model_id": "2499f7ea5eab4bb5a6cf3a27d22554a8",
       "version_major": 2,
       "version_minor": 0
      },
      "text/plain": [
       "HBox(children=(HTML(value='episode'), FloatProgress(value=0.0, max=1300.0), HTML(value='')))"
      ]
     },
     "metadata": {},
     "output_type": "display_data"
    },
    {
     "name": "stdout",
     "output_type": "stream",
     "text": [
      "\n"
     ]
    },
    {
     "data": {
      "application/vnd.jupyter.widget-view+json": {
       "model_id": "0dbdbeb6ad7b451e9c7c6d7225a99ff0",
       "version_major": 2,
       "version_minor": 0
      },
      "text/plain": [
       "HBox(children=(HTML(value='episode'), FloatProgress(value=0.0, max=1300.0), HTML(value='')))"
      ]
     },
     "metadata": {},
     "output_type": "display_data"
    },
    {
     "name": "stdout",
     "output_type": "stream",
     "text": [
      "\n"
     ]
    },
    {
     "data": {
      "application/vnd.jupyter.widget-view+json": {
       "model_id": "97066bba1945459dac58f28fe7d75999",
       "version_major": 2,
       "version_minor": 0
      },
      "text/plain": [
       "HBox(children=(HTML(value='episode'), FloatProgress(value=0.0, max=1300.0), HTML(value='')))"
      ]
     },
     "metadata": {},
     "output_type": "display_data"
    },
    {
     "name": "stdout",
     "output_type": "stream",
     "text": [
      "\n"
     ]
    },
    {
     "data": {
      "application/vnd.jupyter.widget-view+json": {
       "model_id": "ef88f2904a2c46b1b27776ba2cc047af",
       "version_major": 2,
       "version_minor": 0
      },
      "text/plain": [
       "HBox(children=(HTML(value='episode'), FloatProgress(value=0.0, max=1300.0), HTML(value='')))"
      ]
     },
     "metadata": {},
     "output_type": "display_data"
    },
    {
     "name": "stdout",
     "output_type": "stream",
     "text": [
      "\n"
     ]
    },
    {
     "data": {
      "application/vnd.jupyter.widget-view+json": {
       "model_id": "0df4f548d6954ea582ea6fe3cb7a3516",
       "version_major": 2,
       "version_minor": 0
      },
      "text/plain": [
       "HBox(children=(HTML(value='episode'), FloatProgress(value=0.0, max=1300.0), HTML(value='')))"
      ]
     },
     "metadata": {},
     "output_type": "display_data"
    },
    {
     "name": "stdout",
     "output_type": "stream",
     "text": [
      "\n"
     ]
    },
    {
     "data": {
      "application/vnd.jupyter.widget-view+json": {
       "model_id": "9b703b08b25049ddb686c3a57cb3a7b4",
       "version_major": 2,
       "version_minor": 0
      },
      "text/plain": [
       "HBox(children=(HTML(value='episode'), FloatProgress(value=0.0, max=1300.0), HTML(value='')))"
      ]
     },
     "metadata": {},
     "output_type": "display_data"
    },
    {
     "name": "stdout",
     "output_type": "stream",
     "text": [
      "\n"
     ]
    },
    {
     "data": {
      "application/vnd.jupyter.widget-view+json": {
       "model_id": "4ef6cbe731234974a47f3414bfba7bb1",
       "version_major": 2,
       "version_minor": 0
      },
      "text/plain": [
       "HBox(children=(HTML(value='episode'), FloatProgress(value=0.0, max=1300.0), HTML(value='')))"
      ]
     },
     "metadata": {},
     "output_type": "display_data"
    },
    {
     "name": "stdout",
     "output_type": "stream",
     "text": [
      "\n"
     ]
    },
    {
     "data": {
      "application/vnd.jupyter.widget-view+json": {
       "model_id": "9f5efa7cf35244bdbae74d280cd2f44b",
       "version_major": 2,
       "version_minor": 0
      },
      "text/plain": [
       "HBox(children=(HTML(value='episode'), FloatProgress(value=0.0, max=1300.0), HTML(value='')))"
      ]
     },
     "metadata": {},
     "output_type": "display_data"
    },
    {
     "name": "stdout",
     "output_type": "stream",
     "text": [
      "\n"
     ]
    },
    {
     "data": {
      "application/vnd.jupyter.widget-view+json": {
       "model_id": "a0d50901d16d4ebca911c4eb2d1b24ec",
       "version_major": 2,
       "version_minor": 0
      },
      "text/plain": [
       "HBox(children=(HTML(value='episode'), FloatProgress(value=0.0, max=1300.0), HTML(value='')))"
      ]
     },
     "metadata": {},
     "output_type": "display_data"
    },
    {
     "name": "stdout",
     "output_type": "stream",
     "text": [
      "\n"
     ]
    },
    {
     "data": {
      "application/vnd.jupyter.widget-view+json": {
       "model_id": "e44ddb7e31424ee597af9131b14a1531",
       "version_major": 2,
       "version_minor": 0
      },
      "text/plain": [
       "HBox(children=(HTML(value='episode'), FloatProgress(value=0.0, max=1300.0), HTML(value='')))"
      ]
     },
     "metadata": {},
     "output_type": "display_data"
    },
    {
     "name": "stdout",
     "output_type": "stream",
     "text": [
      "\n"
     ]
    },
    {
     "data": {
      "application/vnd.jupyter.widget-view+json": {
       "model_id": "570a884b8eae4548a7eb5e1e37044aab",
       "version_major": 2,
       "version_minor": 0
      },
      "text/plain": [
       "HBox(children=(HTML(value='episode'), FloatProgress(value=0.0, max=1300.0), HTML(value='')))"
      ]
     },
     "metadata": {},
     "output_type": "display_data"
    },
    {
     "name": "stdout",
     "output_type": "stream",
     "text": [
      "\n"
     ]
    },
    {
     "data": {
      "application/vnd.jupyter.widget-view+json": {
       "model_id": "9770488edd69405592e7e92f3a01af60",
       "version_major": 2,
       "version_minor": 0
      },
      "text/plain": [
       "HBox(children=(HTML(value='episode'), FloatProgress(value=0.0, max=1300.0), HTML(value='')))"
      ]
     },
     "metadata": {},
     "output_type": "display_data"
    },
    {
     "name": "stdout",
     "output_type": "stream",
     "text": [
      "\n"
     ]
    },
    {
     "data": {
      "application/vnd.jupyter.widget-view+json": {
       "model_id": "f474fcae2156419d89fd1feec68aaa96",
       "version_major": 2,
       "version_minor": 0
      },
      "text/plain": [
       "HBox(children=(HTML(value='episode'), FloatProgress(value=0.0, max=1300.0), HTML(value='')))"
      ]
     },
     "metadata": {},
     "output_type": "display_data"
    },
    {
     "name": "stdout",
     "output_type": "stream",
     "text": [
      "\n"
     ]
    },
    {
     "data": {
      "application/vnd.jupyter.widget-view+json": {
       "model_id": "c028b9610a7c48859684b066044ef374",
       "version_major": 2,
       "version_minor": 0
      },
      "text/plain": [
       "HBox(children=(HTML(value='episode'), FloatProgress(value=0.0, max=1300.0), HTML(value='')))"
      ]
     },
     "metadata": {},
     "output_type": "display_data"
    },
    {
     "name": "stdout",
     "output_type": "stream",
     "text": [
      "\n"
     ]
    },
    {
     "data": {
      "application/vnd.jupyter.widget-view+json": {
       "model_id": "043a5748deb44f1b8716fa4dc2d14fa9",
       "version_major": 2,
       "version_minor": 0
      },
      "text/plain": [
       "HBox(children=(HTML(value='episode'), FloatProgress(value=0.0, max=1300.0), HTML(value='')))"
      ]
     },
     "metadata": {},
     "output_type": "display_data"
    },
    {
     "name": "stdout",
     "output_type": "stream",
     "text": [
      "\n"
     ]
    },
    {
     "data": {
      "application/vnd.jupyter.widget-view+json": {
       "model_id": "bc2cb0b598b044c7a850e079fbf7ed6d",
       "version_major": 2,
       "version_minor": 0
      },
      "text/plain": [
       "HBox(children=(HTML(value='episode'), FloatProgress(value=0.0, max=1300.0), HTML(value='')))"
      ]
     },
     "metadata": {},
     "output_type": "display_data"
    },
    {
     "name": "stdout",
     "output_type": "stream",
     "text": [
      "\n"
     ]
    },
    {
     "data": {
      "application/vnd.jupyter.widget-view+json": {
       "model_id": "2699594491c4488092be9c8d37489c19",
       "version_major": 2,
       "version_minor": 0
      },
      "text/plain": [
       "HBox(children=(HTML(value='episode'), FloatProgress(value=0.0, max=1300.0), HTML(value='')))"
      ]
     },
     "metadata": {},
     "output_type": "display_data"
    },
    {
     "name": "stdout",
     "output_type": "stream",
     "text": [
      "\n"
     ]
    },
    {
     "data": {
      "application/vnd.jupyter.widget-view+json": {
       "model_id": "7f81672e462e4399bfa2de9879b8424a",
       "version_major": 2,
       "version_minor": 0
      },
      "text/plain": [
       "HBox(children=(HTML(value='episode'), FloatProgress(value=0.0, max=1300.0), HTML(value='')))"
      ]
     },
     "metadata": {},
     "output_type": "display_data"
    },
    {
     "name": "stdout",
     "output_type": "stream",
     "text": [
      "\n"
     ]
    },
    {
     "data": {
      "application/vnd.jupyter.widget-view+json": {
       "model_id": "52af56a49a2a4d18acec13e71b0ba416",
       "version_major": 2,
       "version_minor": 0
      },
      "text/plain": [
       "HBox(children=(HTML(value='episode'), FloatProgress(value=0.0, max=1300.0), HTML(value='')))"
      ]
     },
     "metadata": {},
     "output_type": "display_data"
    },
    {
     "name": "stdout",
     "output_type": "stream",
     "text": [
      "\n"
     ]
    },
    {
     "data": {
      "application/vnd.jupyter.widget-view+json": {
       "model_id": "a98b983f8d2f416c975a46db5067faf2",
       "version_major": 2,
       "version_minor": 0
      },
      "text/plain": [
       "HBox(children=(HTML(value='episode'), FloatProgress(value=0.0, max=1300.0), HTML(value='')))"
      ]
     },
     "metadata": {},
     "output_type": "display_data"
    },
    {
     "name": "stdout",
     "output_type": "stream",
     "text": [
      "\n"
     ]
    },
    {
     "data": {
      "application/vnd.jupyter.widget-view+json": {
       "model_id": "345c84b35c8a46fb94197cc57143f75f",
       "version_major": 2,
       "version_minor": 0
      },
      "text/plain": [
       "HBox(children=(HTML(value='episode'), FloatProgress(value=0.0, max=1300.0), HTML(value='')))"
      ]
     },
     "metadata": {},
     "output_type": "display_data"
    },
    {
     "name": "stdout",
     "output_type": "stream",
     "text": [
      "\n"
     ]
    },
    {
     "data": {
      "application/vnd.jupyter.widget-view+json": {
       "model_id": "abad9dc577bd4ac19e39d277c3c2113e",
       "version_major": 2,
       "version_minor": 0
      },
      "text/plain": [
       "HBox(children=(HTML(value='episode'), FloatProgress(value=0.0, max=1300.0), HTML(value='')))"
      ]
     },
     "metadata": {},
     "output_type": "display_data"
    },
    {
     "name": "stdout",
     "output_type": "stream",
     "text": [
      "\n"
     ]
    },
    {
     "data": {
      "application/vnd.jupyter.widget-view+json": {
       "model_id": "d16d3ffb5b9d4d77bd149579eefc57ab",
       "version_major": 2,
       "version_minor": 0
      },
      "text/plain": [
       "HBox(children=(HTML(value='episode'), FloatProgress(value=0.0, max=1300.0), HTML(value='')))"
      ]
     },
     "metadata": {},
     "output_type": "display_data"
    },
    {
     "name": "stdout",
     "output_type": "stream",
     "text": [
      "\n"
     ]
    },
    {
     "data": {
      "application/vnd.jupyter.widget-view+json": {
       "model_id": "c711258e66674cd1bca48e8dd7a2b189",
       "version_major": 2,
       "version_minor": 0
      },
      "text/plain": [
       "HBox(children=(HTML(value='episode'), FloatProgress(value=0.0, max=1300.0), HTML(value='')))"
      ]
     },
     "metadata": {},
     "output_type": "display_data"
    },
    {
     "name": "stdout",
     "output_type": "stream",
     "text": [
      "\n"
     ]
    },
    {
     "data": {
      "application/vnd.jupyter.widget-view+json": {
       "model_id": "d9b1bceaecce4f9fb1cbad35af2a91c7",
       "version_major": 2,
       "version_minor": 0
      },
      "text/plain": [
       "HBox(children=(HTML(value='episode'), FloatProgress(value=0.0, max=1300.0), HTML(value='')))"
      ]
     },
     "metadata": {},
     "output_type": "display_data"
    },
    {
     "name": "stdout",
     "output_type": "stream",
     "text": [
      "\n"
     ]
    },
    {
     "data": {
      "application/vnd.jupyter.widget-view+json": {
       "model_id": "3dba90db56c14ad7991885e6adc470ae",
       "version_major": 2,
       "version_minor": 0
      },
      "text/plain": [
       "HBox(children=(HTML(value='episode'), FloatProgress(value=0.0, max=1300.0), HTML(value='')))"
      ]
     },
     "metadata": {},
     "output_type": "display_data"
    },
    {
     "name": "stdout",
     "output_type": "stream",
     "text": [
      "\n"
     ]
    },
    {
     "data": {
      "application/vnd.jupyter.widget-view+json": {
       "model_id": "5f710ece76b04c358d5706c270eb7ee9",
       "version_major": 2,
       "version_minor": 0
      },
      "text/plain": [
       "HBox(children=(HTML(value='episode'), FloatProgress(value=0.0, max=1300.0), HTML(value='')))"
      ]
     },
     "metadata": {},
     "output_type": "display_data"
    },
    {
     "name": "stdout",
     "output_type": "stream",
     "text": [
      "\n"
     ]
    },
    {
     "data": {
      "application/vnd.jupyter.widget-view+json": {
       "model_id": "3ff6e7e1f2d3428a8ad32454298d6ea1",
       "version_major": 2,
       "version_minor": 0
      },
      "text/plain": [
       "HBox(children=(HTML(value='episode'), FloatProgress(value=0.0, max=1300.0), HTML(value='')))"
      ]
     },
     "metadata": {},
     "output_type": "display_data"
    },
    {
     "name": "stdout",
     "output_type": "stream",
     "text": [
      "\n"
     ]
    },
    {
     "data": {
      "application/vnd.jupyter.widget-view+json": {
       "model_id": "5b00397bd7dc4c95991e5bfdf157aacd",
       "version_major": 2,
       "version_minor": 0
      },
      "text/plain": [
       "HBox(children=(HTML(value='episode'), FloatProgress(value=0.0, max=1300.0), HTML(value='')))"
      ]
     },
     "metadata": {},
     "output_type": "display_data"
    },
    {
     "name": "stdout",
     "output_type": "stream",
     "text": [
      "\n"
     ]
    },
    {
     "data": {
      "application/vnd.jupyter.widget-view+json": {
       "model_id": "2a885e1399064e28b08872902a416e21",
       "version_major": 2,
       "version_minor": 0
      },
      "text/plain": [
       "HBox(children=(HTML(value='episode'), FloatProgress(value=0.0, max=1300.0), HTML(value='')))"
      ]
     },
     "metadata": {},
     "output_type": "display_data"
    },
    {
     "name": "stdout",
     "output_type": "stream",
     "text": [
      "\n"
     ]
    },
    {
     "data": {
      "application/vnd.jupyter.widget-view+json": {
       "model_id": "e5348587b0284097aef180da528edede",
       "version_major": 2,
       "version_minor": 0
      },
      "text/plain": [
       "HBox(children=(HTML(value='episode'), FloatProgress(value=0.0, max=1300.0), HTML(value='')))"
      ]
     },
     "metadata": {},
     "output_type": "display_data"
    },
    {
     "name": "stdout",
     "output_type": "stream",
     "text": [
      "\n"
     ]
    },
    {
     "data": {
      "application/vnd.jupyter.widget-view+json": {
       "model_id": "b46104f92dc34f99a6a6f5fafe768dd8",
       "version_major": 2,
       "version_minor": 0
      },
      "text/plain": [
       "HBox(children=(HTML(value='episode'), FloatProgress(value=0.0, max=1300.0), HTML(value='')))"
      ]
     },
     "metadata": {},
     "output_type": "display_data"
    },
    {
     "name": "stdout",
     "output_type": "stream",
     "text": [
      "\n"
     ]
    },
    {
     "data": {
      "application/vnd.jupyter.widget-view+json": {
       "model_id": "a567d88ef5834e6a865b170fb56498b0",
       "version_major": 2,
       "version_minor": 0
      },
      "text/plain": [
       "HBox(children=(HTML(value='episode'), FloatProgress(value=0.0, max=1300.0), HTML(value='')))"
      ]
     },
     "metadata": {},
     "output_type": "display_data"
    },
    {
     "name": "stdout",
     "output_type": "stream",
     "text": [
      "\n"
     ]
    },
    {
     "data": {
      "application/vnd.jupyter.widget-view+json": {
       "model_id": "5ce83ce830514564b732d050763e1576",
       "version_major": 2,
       "version_minor": 0
      },
      "text/plain": [
       "HBox(children=(HTML(value='episode'), FloatProgress(value=0.0, max=1300.0), HTML(value='')))"
      ]
     },
     "metadata": {},
     "output_type": "display_data"
    },
    {
     "name": "stdout",
     "output_type": "stream",
     "text": [
      "\n"
     ]
    },
    {
     "data": {
      "application/vnd.jupyter.widget-view+json": {
       "model_id": "d5e5e52b769a4f98a58e5b3320f373ba",
       "version_major": 2,
       "version_minor": 0
      },
      "text/plain": [
       "HBox(children=(HTML(value='episode'), FloatProgress(value=0.0, max=1300.0), HTML(value='')))"
      ]
     },
     "metadata": {},
     "output_type": "display_data"
    },
    {
     "name": "stdout",
     "output_type": "stream",
     "text": [
      "\n"
     ]
    },
    {
     "data": {
      "application/vnd.jupyter.widget-view+json": {
       "model_id": "ff40df09731a40b89c0d23e36c30bcf5",
       "version_major": 2,
       "version_minor": 0
      },
      "text/plain": [
       "HBox(children=(HTML(value='episode'), FloatProgress(value=0.0, max=1300.0), HTML(value='')))"
      ]
     },
     "metadata": {},
     "output_type": "display_data"
    },
    {
     "name": "stdout",
     "output_type": "stream",
     "text": [
      "\n"
     ]
    },
    {
     "data": {
      "application/vnd.jupyter.widget-view+json": {
       "model_id": "31162a2c523f4aefb9f216e29a020577",
       "version_major": 2,
       "version_minor": 0
      },
      "text/plain": [
       "HBox(children=(HTML(value='episode'), FloatProgress(value=0.0, max=1300.0), HTML(value='')))"
      ]
     },
     "metadata": {},
     "output_type": "display_data"
    },
    {
     "name": "stdout",
     "output_type": "stream",
     "text": [
      "\n"
     ]
    },
    {
     "data": {
      "application/vnd.jupyter.widget-view+json": {
       "model_id": "70f6da7a64314cc5ac706a6d6e8a1256",
       "version_major": 2,
       "version_minor": 0
      },
      "text/plain": [
       "HBox(children=(HTML(value='episode'), FloatProgress(value=0.0, max=1300.0), HTML(value='')))"
      ]
     },
     "metadata": {},
     "output_type": "display_data"
    },
    {
     "name": "stdout",
     "output_type": "stream",
     "text": [
      "\n"
     ]
    },
    {
     "data": {
      "application/vnd.jupyter.widget-view+json": {
       "model_id": "48064f5288444f14bf4ae0bc5a2c1673",
       "version_major": 2,
       "version_minor": 0
      },
      "text/plain": [
       "HBox(children=(HTML(value='episode'), FloatProgress(value=0.0, max=1300.0), HTML(value='')))"
      ]
     },
     "metadata": {},
     "output_type": "display_data"
    },
    {
     "name": "stdout",
     "output_type": "stream",
     "text": [
      "\n"
     ]
    },
    {
     "data": {
      "application/vnd.jupyter.widget-view+json": {
       "model_id": "52373dbb79904209bb6a0682b5f060dd",
       "version_major": 2,
       "version_minor": 0
      },
      "text/plain": [
       "HBox(children=(HTML(value='episode'), FloatProgress(value=0.0, max=1300.0), HTML(value='')))"
      ]
     },
     "metadata": {},
     "output_type": "display_data"
    },
    {
     "name": "stdout",
     "output_type": "stream",
     "text": [
      "\n",
      "\n",
      "The results for the evaluated agent are:\n",
      "\tFor chronics with id 000\n",
      "\t\t - cumulative reward: 1413796.375000\n",
      "\t\t - number of time steps completed: 1300 / 1300\n",
      "\tFor chronics with id 001\n",
      "\t\t - cumulative reward: 1404022.125000\n",
      "\t\t - number of time steps completed: 1300 / 1300\n",
      "\tFor chronics with id 002\n",
      "\t\t - cumulative reward: 1403251.250000\n",
      "\t\t - number of time steps completed: 1300 / 1300\n",
      "\tFor chronics with id 003\n",
      "\t\t - cumulative reward: 1423209.625000\n",
      "\t\t - number of time steps completed: 1300 / 1300\n",
      "\tFor chronics with id 004\n",
      "\t\t - cumulative reward: 1438636.875000\n",
      "\t\t - number of time steps completed: 1300 / 1300\n",
      "\tFor chronics with id 005\n",
      "\t\t - cumulative reward: 1419330.125000\n",
      "\t\t - number of time steps completed: 1300 / 1300\n",
      "\tFor chronics with id 006\n",
      "\t\t - cumulative reward: 1423139.250000\n",
      "\t\t - number of time steps completed: 1300 / 1300\n",
      "\tFor chronics with id 007\n",
      "\t\t - cumulative reward: 1398483.250000\n",
      "\t\t - number of time steps completed: 1300 / 1300\n",
      "\tFor chronics with id 008\n",
      "\t\t - cumulative reward: 1410171.750000\n",
      "\t\t - number of time steps completed: 1300 / 1300\n",
      "\tFor chronics with id 009\n",
      "\t\t - cumulative reward: 1451832.875000\n",
      "\t\t - number of time steps completed: 1300 / 1300\n",
      "\tFor chronics with id 010\n",
      "\t\t - cumulative reward: 1440721.125000\n",
      "\t\t - number of time steps completed: 1300 / 1300\n",
      "\tFor chronics with id 011\n",
      "\t\t - cumulative reward: 1435058.750000\n",
      "\t\t - number of time steps completed: 1300 / 1300\n",
      "\tFor chronics with id 012\n",
      "\t\t - cumulative reward: 1451484.875000\n",
      "\t\t - number of time steps completed: 1300 / 1300\n",
      "\tFor chronics with id 013\n",
      "\t\t - cumulative reward: 1401277.375000\n",
      "\t\t - number of time steps completed: 1300 / 1300\n",
      "\tFor chronics with id 014\n",
      "\t\t - cumulative reward: 1444174.750000\n",
      "\t\t - number of time steps completed: 1300 / 1300\n",
      "\tFor chronics with id 015\n",
      "\t\t - cumulative reward: 1399550.875000\n",
      "\t\t - number of time steps completed: 1300 / 1300\n",
      "\tFor chronics with id 016\n",
      "\t\t - cumulative reward: 1414239.875000\n",
      "\t\t - number of time steps completed: 1300 / 1300\n",
      "\tFor chronics with id 017\n",
      "\t\t - cumulative reward: 1442579.000000\n",
      "\t\t - number of time steps completed: 1300 / 1300\n",
      "\tFor chronics with id 018\n",
      "\t\t - cumulative reward: 1403393.250000\n",
      "\t\t - number of time steps completed: 1300 / 1300\n",
      "\tFor chronics with id 019\n",
      "\t\t - cumulative reward: 1442750.625000\n",
      "\t\t - number of time steps completed: 1300 / 1300\n",
      "\tFor chronics with id 020\n",
      "\t\t - cumulative reward: 1411011.500000\n",
      "\t\t - number of time steps completed: 1300 / 1300\n",
      "\tFor chronics with id 021\n",
      "\t\t - cumulative reward: 1456375.375000\n",
      "\t\t - number of time steps completed: 1300 / 1300\n",
      "\tFor chronics with id 022\n",
      "\t\t - cumulative reward: 1417100.125000\n",
      "\t\t - number of time steps completed: 1300 / 1300\n",
      "\tFor chronics with id 023\n",
      "\t\t - cumulative reward: 1446646.000000\n",
      "\t\t - number of time steps completed: 1300 / 1300\n",
      "\tFor chronics with id 024\n",
      "\t\t - cumulative reward: 1403682.250000\n",
      "\t\t - number of time steps completed: 1300 / 1300\n",
      "\tFor chronics with id 025\n",
      "\t\t - cumulative reward: 1429336.375000\n",
      "\t\t - number of time steps completed: 1300 / 1300\n",
      "\tFor chronics with id 026\n",
      "\t\t - cumulative reward: 1399541.500000\n",
      "\t\t - number of time steps completed: 1300 / 1300\n",
      "\tFor chronics with id 027\n",
      "\t\t - cumulative reward: 1425559.750000\n",
      "\t\t - number of time steps completed: 1300 / 1300\n",
      "\tFor chronics with id 028\n",
      "\t\t - cumulative reward: 1366968.375000\n",
      "\t\t - number of time steps completed: 1300 / 1300\n",
      "\tFor chronics with id 029\n",
      "\t\t - cumulative reward: 1392414.625000\n",
      "\t\t - number of time steps completed: 1300 / 1300\n",
      "\tFor chronics with id 030\n",
      "\t\t - cumulative reward: 1429531.875000\n",
      "\t\t - number of time steps completed: 1300 / 1300\n",
      "\tFor chronics with id 031\n",
      "\t\t - cumulative reward: 1425562.500000\n",
      "\t\t - number of time steps completed: 1300 / 1300\n",
      "\tFor chronics with id 032\n",
      "\t\t - cumulative reward: 1408746.000000\n",
      "\t\t - number of time steps completed: 1300 / 1300\n",
      "\tFor chronics with id 033\n",
      "\t\t - cumulative reward: 1407983.750000\n",
      "\t\t - number of time steps completed: 1300 / 1300\n",
      "\tFor chronics with id 034\n",
      "\t\t - cumulative reward: 1417183.250000\n",
      "\t\t - number of time steps completed: 1300 / 1300\n",
      "\tFor chronics with id 035\n",
      "\t\t - cumulative reward: 1424583.500000\n",
      "\t\t - number of time steps completed: 1300 / 1300\n",
      "\tFor chronics with id 036\n",
      "\t\t - cumulative reward: 1395221.375000\n",
      "\t\t - number of time steps completed: 1300 / 1300\n",
      "\tFor chronics with id 037\n",
      "\t\t - cumulative reward: 1436556.375000\n",
      "\t\t - number of time steps completed: 1300 / 1300\n",
      "\tFor chronics with id 038\n",
      "\t\t - cumulative reward: 1381019.750000\n",
      "\t\t - number of time steps completed: 1300 / 1300\n",
      "\tFor chronics with id 039\n",
      "\t\t - cumulative reward: 1438315.625000\n",
      "\t\t - number of time steps completed: 1300 / 1300\n",
      "\tFor chronics with id 040\n",
      "\t\t - cumulative reward: 1424068.375000\n",
      "\t\t - number of time steps completed: 1300 / 1300\n",
      "\tFor chronics with id 041\n",
      "\t\t - cumulative reward: 1421228.625000\n",
      "\t\t - number of time steps completed: 1300 / 1300\n",
      "\tFor chronics with id 042\n",
      "\t\t - cumulative reward: 1422611.875000\n",
      "\t\t - number of time steps completed: 1300 / 1300\n",
      "\tFor chronics with id 043\n",
      "\t\t - cumulative reward: 1441417.625000\n",
      "\t\t - number of time steps completed: 1300 / 1300\n",
      "\tFor chronics with id 044\n",
      "\t\t - cumulative reward: 1415413.500000\n",
      "\t\t - number of time steps completed: 1300 / 1300\n",
      "\tFor chronics with id 045\n",
      "\t\t - cumulative reward: 1407638.375000\n",
      "\t\t - number of time steps completed: 1300 / 1300\n",
      "\tFor chronics with id 046\n",
      "\t\t - cumulative reward: 1379030.750000\n",
      "\t\t - number of time steps completed: 1300 / 1300\n",
      "\tFor chronics with id 047\n",
      "\t\t - cumulative reward: 1424401.375000\n",
      "\t\t - number of time steps completed: 1300 / 1300\n",
      "\tFor chronics with id 048\n",
      "\t\t - cumulative reward: 1400656.500000\n",
      "\t\t - number of time steps completed: 1300 / 1300\n",
      "\tFor chronics with id 049\n",
      "\t\t - cumulative reward: 1403440.875000\n",
      "\t\t - number of time steps completed: 1300 / 1300\n",
      "\tFor chronics with id 050\n",
      "\t\t - cumulative reward: 1441485.500000\n",
      "\t\t - number of time steps completed: 1300 / 1300\n",
      "\tFor chronics with id 051\n",
      "\t\t - cumulative reward: 1386589.500000\n",
      "\t\t - number of time steps completed: 1300 / 1300\n",
      "\tFor chronics with id 052\n",
      "\t\t - cumulative reward: 1414542.375000\n",
      "\t\t - number of time steps completed: 1300 / 1300\n",
      "\tFor chronics with id 053\n",
      "\t\t - cumulative reward: 1445197.500000\n",
      "\t\t - number of time steps completed: 1300 / 1300\n",
      "\tFor chronics with id 054\n",
      "\t\t - cumulative reward: 1401968.750000\n",
      "\t\t - number of time steps completed: 1300 / 1300\n",
      "\tFor chronics with id 055\n",
      "\t\t - cumulative reward: 1428425.375000\n",
      "\t\t - number of time steps completed: 1300 / 1300\n",
      "\tFor chronics with id 056\n",
      "\t\t - cumulative reward: 1415119.875000\n",
      "\t\t - number of time steps completed: 1300 / 1300\n",
      "\tFor chronics with id 057\n",
      "\t\t - cumulative reward: 1418440.250000\n",
      "\t\t - number of time steps completed: 1300 / 1300\n",
      "\tFor chronics with id 058\n",
      "\t\t - cumulative reward: 1436340.125000\n",
      "\t\t - number of time steps completed: 1300 / 1300\n",
      "\tFor chronics with id 059\n",
      "\t\t - cumulative reward: 1419969.125000\n",
      "\t\t - number of time steps completed: 1300 / 1300\n",
      "\tFor chronics with id 060\n",
      "\t\t - cumulative reward: 1381479.625000\n",
      "\t\t - number of time steps completed: 1300 / 1300\n",
      "\tFor chronics with id 061\n",
      "\t\t - cumulative reward: 1428304.250000\n",
      "\t\t - number of time steps completed: 1300 / 1300\n",
      "\tFor chronics with id 062\n",
      "\t\t - cumulative reward: 1400755.750000\n",
      "\t\t - number of time steps completed: 1300 / 1300\n",
      "\tFor chronics with id 063\n",
      "\t\t - cumulative reward: 1406738.000000\n",
      "\t\t - number of time steps completed: 1300 / 1300\n",
      "\tFor chronics with id 064\n",
      "\t\t - cumulative reward: 1418454.375000\n",
      "\t\t - number of time steps completed: 1300 / 1300\n",
      "\tFor chronics with id 065\n",
      "\t\t - cumulative reward: 1439307.625000\n",
      "\t\t - number of time steps completed: 1300 / 1300\n",
      "\tFor chronics with id 066\n",
      "\t\t - cumulative reward: 1400989.000000\n",
      "\t\t - number of time steps completed: 1300 / 1300\n",
      "\tFor chronics with id 067\n",
      "\t\t - cumulative reward: 1402930.375000\n",
      "\t\t - number of time steps completed: 1300 / 1300\n",
      "\tFor chronics with id 068\n",
      "\t\t - cumulative reward: 1393865.875000\n",
      "\t\t - number of time steps completed: 1300 / 1300\n",
      "\tFor chronics with id 069\n",
      "\t\t - cumulative reward: 1424792.125000\n",
      "\t\t - number of time steps completed: 1300 / 1300\n",
      "\tFor chronics with id 070\n",
      "\t\t - cumulative reward: 1432410.000000\n",
      "\t\t - number of time steps completed: 1300 / 1300\n",
      "\tFor chronics with id 071\n",
      "\t\t - cumulative reward: 1409345.875000\n",
      "\t\t - number of time steps completed: 1300 / 1300\n",
      "\tFor chronics with id 072\n",
      "\t\t - cumulative reward: 1402544.000000\n",
      "\t\t - number of time steps completed: 1300 / 1300\n",
      "\tFor chronics with id 073\n",
      "\t\t - cumulative reward: 1441282.875000\n",
      "\t\t - number of time steps completed: 1300 / 1300\n",
      "\tFor chronics with id 074\n",
      "\t\t - cumulative reward: 1390795.750000\n",
      "\t\t - number of time steps completed: 1300 / 1300\n",
      "\tFor chronics with id 075\n",
      "\t\t - cumulative reward: 1399556.000000\n",
      "\t\t - number of time steps completed: 1300 / 1300\n",
      "\tFor chronics with id 076\n",
      "\t\t - cumulative reward: 1447673.500000\n",
      "\t\t - number of time steps completed: 1300 / 1300\n",
      "\tFor chronics with id 077\n",
      "\t\t - cumulative reward: 1420348.250000\n",
      "\t\t - number of time steps completed: 1300 / 1300\n",
      "\tFor chronics with id 078\n",
      "\t\t - cumulative reward: 1408234.500000\n",
      "\t\t - number of time steps completed: 1300 / 1300\n",
      "\tFor chronics with id 079\n",
      "\t\t - cumulative reward: 1422811.750000\n",
      "\t\t - number of time steps completed: 1300 / 1300\n",
      "\tFor chronics with id 080\n",
      "\t\t - cumulative reward: 1391809.000000\n",
      "\t\t - number of time steps completed: 1300 / 1300\n",
      "\tFor chronics with id 081\n",
      "\t\t - cumulative reward: 1406531.625000\n",
      "\t\t - number of time steps completed: 1300 / 1300\n",
      "\tFor chronics with id 082\n",
      "\t\t - cumulative reward: 1403535.000000\n",
      "\t\t - number of time steps completed: 1300 / 1300\n",
      "\tFor chronics with id 083\n",
      "\t\t - cumulative reward: 1387587.500000\n",
      "\t\t - number of time steps completed: 1300 / 1300\n",
      "\tFor chronics with id 084\n",
      "\t\t - cumulative reward: 1409985.000000\n",
      "\t\t - number of time steps completed: 1300 / 1300\n",
      "\tFor chronics with id 085\n",
      "\t\t - cumulative reward: 1417549.500000\n",
      "\t\t - number of time steps completed: 1300 / 1300\n",
      "\tFor chronics with id 086\n",
      "\t\t - cumulative reward: 1425507.125000\n",
      "\t\t - number of time steps completed: 1300 / 1300\n",
      "\tFor chronics with id 087\n",
      "\t\t - cumulative reward: 1392701.375000\n",
      "\t\t - number of time steps completed: 1300 / 1300\n",
      "\tFor chronics with id 088\n",
      "\t\t - cumulative reward: 1428130.250000\n",
      "\t\t - number of time steps completed: 1300 / 1300\n",
      "\tFor chronics with id 089\n",
      "\t\t - cumulative reward: 1472201.125000\n",
      "\t\t - number of time steps completed: 1300 / 1300\n",
      "\tFor chronics with id 090\n",
      "\t\t - cumulative reward: 1409314.125000\n",
      "\t\t - number of time steps completed: 1300 / 1300\n",
      "\tFor chronics with id 091\n",
      "\t\t - cumulative reward: 1412335.375000\n",
      "\t\t - number of time steps completed: 1300 / 1300\n",
      "\tFor chronics with id 092\n",
      "\t\t - cumulative reward: 1412495.375000\n",
      "\t\t - number of time steps completed: 1300 / 1300\n",
      "\tFor chronics with id 093\n",
      "\t\t - cumulative reward: 1380464.500000\n",
      "\t\t - number of time steps completed: 1300 / 1300\n",
      "\tFor chronics with id 094\n",
      "\t\t - cumulative reward: 1398846.875000\n",
      "\t\t - number of time steps completed: 1300 / 1300\n",
      "\tFor chronics with id 095\n",
      "\t\t - cumulative reward: 1386535.750000\n",
      "\t\t - number of time steps completed: 1300 / 1300\n",
      "\tFor chronics with id 096\n",
      "\t\t - cumulative reward: 1415051.750000\n",
      "\t\t - number of time steps completed: 1300 / 1300\n",
      "\tFor chronics with id 097\n",
      "\t\t - cumulative reward: 1425297.875000\n",
      "\t\t - number of time steps completed: 1300 / 1300\n",
      "\tFor chronics with id 098\n",
      "\t\t - cumulative reward: 1433262.875000\n",
      "\t\t - number of time steps completed: 1300 / 1300\n",
      "\tFor chronics with id 099\n",
      "\t\t - cumulative reward: 1380289.500000\n",
      "\t\t - number of time steps completed: 1300 / 1300\n"
     ]
    }
   ],
   "source": [
    "scoring_function = L2RPNReward\n",
    "env = grid2op.make(scenario, backend=backend, param=param)\n",
    "env.set_thermal_limit([1e20 for _ in range(env.n_line)])\n",
    "env.verbose = True\n",
    "pprint(env.get_params_for_runner())\n",
    "\n",
    "\n",
    "if not os.path.exists(path_agents):\n",
    "    os.mkdir(path_agents)\n",
    "\n",
    "# make a runner for this agent\n",
    "path_agent = os.path.join(path_agents, agent_name)\n",
    "\n",
    "runner = Runner(**env.get_params_for_runner(),\n",
    "                agentClass=agent_class\n",
    "                )\n",
    "res = runner.run(path_save=path_agent, nb_episode=100, \n",
    "                max_iter=max_iter,\n",
    "                pbar=tqdm)\n",
    "print(\"The results for the evaluated agent are:\")\n",
    "for _, chron_id, cum_reward, nb_time_step, max_ts in res:\n",
    "    msg_tmp = \"\\tFor chronics with id {}\\n\".format(chron_id)\n",
    "    msg_tmp += \"\\t\\t - cumulative reward: {:.6f}\\n\".format(cum_reward)\n",
    "    msg_tmp += \"\\t\\t - number of time steps completed: {:.0f} / {:.0f}\".format(nb_time_step, max_ts)\n",
    "    print(msg_tmp)"
   ]
  },
  {
   "cell_type": "markdown",
   "metadata": {},
   "source": [
    "## Looking at the results and understanding the behaviour of the Agent"
   ]
  },
  {
   "cell_type": "markdown",
   "metadata": {},
   "source": [
    "Now we can load the actions and observations and put in in a dataframe"
   ]
  },
  {
   "cell_type": "code",
   "execution_count": 6,
   "metadata": {},
   "outputs": [],
   "source": [
    "from grid2op.Episode import EpisodeData\n",
    "import pandas as pd "
   ]
  },
  {
   "cell_type": "code",
   "execution_count": 7,
   "metadata": {
    "scrolled": true
   },
   "outputs": [],
   "source": [
    "path_agent = os.path.join(path_agents, agent_name)\n",
    "\n",
    "observations = []\n",
    "for episode_path in EpisodeData.list_episode(path_agent): \n",
    "    episode = EpisodeData.from_disk(*episode_path)\n",
    "    \n",
    "    for o in episode.observations:\n",
    "        observation = []\n",
    "        observation += [o.year, \n",
    "                        o.month,\n",
    "                        o.day, \n",
    "                        o.hour_of_day, \n",
    "                        o.minute_of_hour, \n",
    "                        o.day_of_week]\n",
    "        \n",
    "        observation += list(o.prod_p)\n",
    "        observation += list(o.prod_q)\n",
    "        observation += list(o.prod_v)\n",
    "\n",
    "        observation += list(o.load_p)\n",
    "        observation += list(o.load_q)\n",
    "        observation += list(o.load_v)\n",
    "        \n",
    "        observation += list(o.p_or)\n",
    "        observation += list(o.q_or)\n",
    "        observation += list(o.v_or)\n",
    "        observation += list(o.a_or)\n",
    "        \n",
    "        observation += list(o.p_ex)\n",
    "        observation += list(o.q_ex)\n",
    "        observation += list(o.v_ex)\n",
    "        observation += list(o.a_ex)\n",
    "\n",
    "        observation += list(o.topo_vect)\n",
    "        \n",
    "        observation += list(o.rho)\n",
    "        \n",
    "        observations.append(observation)\n"
   ]
  },
  {
   "cell_type": "code",
   "execution_count": 8,
   "metadata": {},
   "outputs": [],
   "source": [
    "topo_vect_columns = ['' for _ in range(len(o.topo_vect))]\n",
    "\n",
    "for load_i, position_i in enumerate(grid2op.Space.GridObjects.load_pos_topo_vect): \n",
    "    topo_vect_columns[position_i]= 'topo_vect_load_' + str(load_i)\n",
    "\n",
    "for load_i, position_i in enumerate(grid2op.Space.GridObjects.gen_pos_topo_vect): \n",
    "    topo_vect_columns[position_i]= 'topo_vect_gen_' + str(load_i)\n",
    "    \n",
    "for load_i, position_i in enumerate(grid2op.Space.GridObjects.line_or_pos_topo_vect): \n",
    "    topo_vect_columns[position_i]= 'topo_vect_line_or_' + str(load_i)\n",
    "\n",
    "for load_i, position_i in enumerate(grid2op.Space.GridObjects.line_ex_pos_topo_vect): \n",
    "    topo_vect_columns[position_i]= 'topo_vect_line_ex_' + str(load_i)"
   ]
  },
  {
   "cell_type": "code",
   "execution_count": 9,
   "metadata": {},
   "outputs": [],
   "source": [
    "observations_columns = [\"year\", \n",
    "                       \"month\", \n",
    "                       \"day\", \n",
    "                       \"hour_of_day\", \n",
    "                       \"minute_of_hour\", \n",
    "                       \"day_of_week\", \n",
    "\n",
    "                       ]\n",
    "observations_columns += [\"prod_p_\" + gen for gen in o.name_gen]\n",
    "observations_columns += [\"prod_q_\" + gen for gen in o.name_gen]\n",
    "observations_columns += [\"prod_v_\" + gen for gen in o.name_gen]\n",
    "\n",
    "observations_columns += [\"load_p_\" + load for load in o.name_load]\n",
    "observations_columns += [\"load_q_\" + load for load in o.name_load]\n",
    "observations_columns += [\"load_v_\" + load for load in o.name_load]\n",
    "\n",
    "observations_columns += [\"line_p_or_\" + line for line in o.name_line]\n",
    "observations_columns += [\"line_q_or_\" + line for line in o.name_line]\n",
    "observations_columns += [\"line_v_or_\" + line for line in o.name_line]\n",
    "observations_columns += [\"line_a_or_\" + line for line in o.name_line]\n",
    "\n",
    "observations_columns += [\"line_p_ex_\" + line for line in o.name_line]\n",
    "observations_columns += [\"line_q_ex_\" + line for line in o.name_line]\n",
    "observations_columns += [\"line_v_ex_\" + line for line in o.name_line]\n",
    "observations_columns += [\"line_a_ex_\" + line for line in o.name_line]\n",
    "\n",
    "observations_columns += topo_vect_columns\n",
    "\n",
    "observations_columns += [\"line_rho_\" + line for line in o.name_line]\n",
    "\n",
    "\n",
    "\n",
    "observations_df = pd.DataFrame(observations, columns=observations_columns)"
   ]
  },
  {
   "cell_type": "code",
   "execution_count": 16,
   "metadata": {},
   "outputs": [
    {
     "data": {
      "text/html": [
       "<div>\n",
       "<style scoped>\n",
       "    .dataframe tbody tr th:only-of-type {\n",
       "        vertical-align: middle;\n",
       "    }\n",
       "\n",
       "    .dataframe tbody tr th {\n",
       "        vertical-align: top;\n",
       "    }\n",
       "\n",
       "    .dataframe thead th {\n",
       "        text-align: right;\n",
       "    }\n",
       "</style>\n",
       "<table border=\"1\" class=\"dataframe\">\n",
       "  <thead>\n",
       "    <tr style=\"text-align: right;\">\n",
       "      <th></th>\n",
       "      <th>year</th>\n",
       "      <th>month</th>\n",
       "      <th>day</th>\n",
       "      <th>hour_of_day</th>\n",
       "      <th>minute_of_hour</th>\n",
       "      <th>day_of_week</th>\n",
       "      <th>prod_p_gen_1_0</th>\n",
       "      <th>prod_p_gen_2_1</th>\n",
       "      <th>prod_p_gen_5_2</th>\n",
       "      <th>prod_p_gen_7_3</th>\n",
       "      <th>...</th>\n",
       "      <th>line_rho_8_9_10</th>\n",
       "      <th>line_rho_8_13_11</th>\n",
       "      <th>line_rho_9_10_12</th>\n",
       "      <th>line_rho_11_12_13</th>\n",
       "      <th>line_rho_12_13_14</th>\n",
       "      <th>line_rho_3_6_15</th>\n",
       "      <th>line_rho_3_8_16</th>\n",
       "      <th>line_rho_4_5_17</th>\n",
       "      <th>line_rho_6_7_18</th>\n",
       "      <th>line_rho_6_8_19</th>\n",
       "    </tr>\n",
       "  </thead>\n",
       "  <tbody>\n",
       "    <tr>\n",
       "      <th>0</th>\n",
       "      <td>2019</td>\n",
       "      <td>1</td>\n",
       "      <td>6</td>\n",
       "      <td>0</td>\n",
       "      <td>0</td>\n",
       "      <td>6</td>\n",
       "      <td>81.300003</td>\n",
       "      <td>80.099998</td>\n",
       "      <td>12.6</td>\n",
       "      <td>0.0</td>\n",
       "      <td>...</td>\n",
       "      <td>9.696737e-19</td>\n",
       "      <td>2.361358e-18</td>\n",
       "      <td>2.635979e-18</td>\n",
       "      <td>6.463157e-19</td>\n",
       "      <td>2.887801e-18</td>\n",
       "      <td>1.243079e-18</td>\n",
       "      <td>6.137629e-19</td>\n",
       "      <td>1.485756e-18</td>\n",
       "      <td>9.178147e-18</td>\n",
       "      <td>7.108563e-18</td>\n",
       "    </tr>\n",
       "    <tr>\n",
       "      <th>1</th>\n",
       "      <td>2019</td>\n",
       "      <td>1</td>\n",
       "      <td>6</td>\n",
       "      <td>0</td>\n",
       "      <td>5</td>\n",
       "      <td>6</td>\n",
       "      <td>81.599998</td>\n",
       "      <td>81.099998</td>\n",
       "      <td>12.9</td>\n",
       "      <td>0.0</td>\n",
       "      <td>...</td>\n",
       "      <td>9.488822e-19</td>\n",
       "      <td>2.399917e-18</td>\n",
       "      <td>2.647153e-18</td>\n",
       "      <td>6.745319e-19</td>\n",
       "      <td>2.913341e-18</td>\n",
       "      <td>1.242648e-18</td>\n",
       "      <td>6.142983e-19</td>\n",
       "      <td>1.482842e-18</td>\n",
       "      <td>9.188407e-18</td>\n",
       "      <td>7.128031e-18</td>\n",
       "    </tr>\n",
       "    <tr>\n",
       "      <th>2</th>\n",
       "      <td>2019</td>\n",
       "      <td>1</td>\n",
       "      <td>6</td>\n",
       "      <td>0</td>\n",
       "      <td>10</td>\n",
       "      <td>6</td>\n",
       "      <td>81.000000</td>\n",
       "      <td>80.900002</td>\n",
       "      <td>12.8</td>\n",
       "      <td>0.0</td>\n",
       "      <td>...</td>\n",
       "      <td>9.301504e-19</td>\n",
       "      <td>2.418240e-18</td>\n",
       "      <td>2.645691e-18</td>\n",
       "      <td>6.611092e-19</td>\n",
       "      <td>2.942178e-18</td>\n",
       "      <td>1.250759e-18</td>\n",
       "      <td>6.190831e-19</td>\n",
       "      <td>1.495626e-18</td>\n",
       "      <td>9.217493e-18</td>\n",
       "      <td>7.181705e-18</td>\n",
       "    </tr>\n",
       "    <tr>\n",
       "      <th>3</th>\n",
       "      <td>2019</td>\n",
       "      <td>1</td>\n",
       "      <td>6</td>\n",
       "      <td>0</td>\n",
       "      <td>15</td>\n",
       "      <td>6</td>\n",
       "      <td>82.199997</td>\n",
       "      <td>79.800003</td>\n",
       "      <td>12.9</td>\n",
       "      <td>0.0</td>\n",
       "      <td>...</td>\n",
       "      <td>9.996127e-19</td>\n",
       "      <td>2.418041e-18</td>\n",
       "      <td>2.635954e-18</td>\n",
       "      <td>6.657896e-19</td>\n",
       "      <td>2.908902e-18</td>\n",
       "      <td>1.231840e-18</td>\n",
       "      <td>6.059953e-19</td>\n",
       "      <td>1.475210e-18</td>\n",
       "      <td>9.190885e-18</td>\n",
       "      <td>7.021873e-18</td>\n",
       "    </tr>\n",
       "    <tr>\n",
       "      <th>4</th>\n",
       "      <td>2019</td>\n",
       "      <td>1</td>\n",
       "      <td>6</td>\n",
       "      <td>0</td>\n",
       "      <td>20</td>\n",
       "      <td>6</td>\n",
       "      <td>82.199997</td>\n",
       "      <td>79.599998</td>\n",
       "      <td>13.0</td>\n",
       "      <td>0.0</td>\n",
       "      <td>...</td>\n",
       "      <td>8.986705e-19</td>\n",
       "      <td>2.419013e-18</td>\n",
       "      <td>2.639629e-18</td>\n",
       "      <td>6.698997e-19</td>\n",
       "      <td>2.929139e-18</td>\n",
       "      <td>1.231850e-18</td>\n",
       "      <td>6.063978e-19</td>\n",
       "      <td>1.469349e-18</td>\n",
       "      <td>9.211928e-18</td>\n",
       "      <td>7.037471e-18</td>\n",
       "    </tr>\n",
       "  </tbody>\n",
       "</table>\n",
       "<p>5 rows × 290 columns</p>\n",
       "</div>"
      ],
      "text/plain": [
       "   year  month  day  hour_of_day  minute_of_hour  day_of_week  prod_p_gen_1_0  \\\n",
       "0  2019      1    6            0               0            6       81.300003   \n",
       "1  2019      1    6            0               5            6       81.599998   \n",
       "2  2019      1    6            0              10            6       81.000000   \n",
       "3  2019      1    6            0              15            6       82.199997   \n",
       "4  2019      1    6            0              20            6       82.199997   \n",
       "\n",
       "   prod_p_gen_2_1  prod_p_gen_5_2  prod_p_gen_7_3  ...  line_rho_8_9_10  \\\n",
       "0       80.099998            12.6             0.0  ...     9.696737e-19   \n",
       "1       81.099998            12.9             0.0  ...     9.488822e-19   \n",
       "2       80.900002            12.8             0.0  ...     9.301504e-19   \n",
       "3       79.800003            12.9             0.0  ...     9.996127e-19   \n",
       "4       79.599998            13.0             0.0  ...     8.986705e-19   \n",
       "\n",
       "   line_rho_8_13_11  line_rho_9_10_12  line_rho_11_12_13  line_rho_12_13_14  \\\n",
       "0      2.361358e-18      2.635979e-18       6.463157e-19       2.887801e-18   \n",
       "1      2.399917e-18      2.647153e-18       6.745319e-19       2.913341e-18   \n",
       "2      2.418240e-18      2.645691e-18       6.611092e-19       2.942178e-18   \n",
       "3      2.418041e-18      2.635954e-18       6.657896e-19       2.908902e-18   \n",
       "4      2.419013e-18      2.639629e-18       6.698997e-19       2.929139e-18   \n",
       "\n",
       "   line_rho_3_6_15  line_rho_3_8_16  line_rho_4_5_17  line_rho_6_7_18  \\\n",
       "0     1.243079e-18     6.137629e-19     1.485756e-18     9.178147e-18   \n",
       "1     1.242648e-18     6.142983e-19     1.482842e-18     9.188407e-18   \n",
       "2     1.250759e-18     6.190831e-19     1.495626e-18     9.217493e-18   \n",
       "3     1.231840e-18     6.059953e-19     1.475210e-18     9.190885e-18   \n",
       "4     1.231850e-18     6.063978e-19     1.469349e-18     9.211928e-18   \n",
       "\n",
       "   line_rho_6_8_19  \n",
       "0     7.108563e-18  \n",
       "1     7.128031e-18  \n",
       "2     7.181705e-18  \n",
       "3     7.021873e-18  \n",
       "4     7.037471e-18  \n",
       "\n",
       "[5 rows x 290 columns]"
      ]
     },
     "execution_count": 16,
     "metadata": {},
     "output_type": "execute_result"
    }
   ],
   "source": [
    "observations_df.head()"
   ]
  },
  {
   "cell_type": "code",
   "execution_count": 14,
   "metadata": {},
   "outputs": [
    {
     "data": {
      "text/plain": [
       "'rte_case14_realistic-DoNothingAgent'"
      ]
     },
     "execution_count": 14,
     "metadata": {},
     "output_type": "execute_result"
    }
   ],
   "source": [
    "data_file_name = scenario + '-' + agent_name\n",
    "data_file_name"
   ]
  },
  {
   "cell_type": "code",
   "execution_count": 15,
   "metadata": {},
   "outputs": [],
   "source": [
    "observations_df.to_feather(\"../\" + data_file_name + \".feather\")"
   ]
  },
  {
   "cell_type": "markdown",
   "metadata": {},
   "source": [
    "What are the features in this dataset ? "
   ]
  },
  {
   "cell_type": "code",
   "execution_count": 12,
   "metadata": {},
   "outputs": [
    {
     "data": {
      "text/plain": [
       "['year',\n",
       " 'month',\n",
       " 'day',\n",
       " 'hour_of_day',\n",
       " 'minute_of_hour',\n",
       " 'day_of_week',\n",
       " 'prod_p',\n",
       " 'prod_q',\n",
       " 'prod_v',\n",
       " 'load_p',\n",
       " 'load_q',\n",
       " 'load_v',\n",
       " 'p_or',\n",
       " 'q_or',\n",
       " 'v_or',\n",
       " 'a_or',\n",
       " 'p_ex',\n",
       " 'q_ex',\n",
       " 'v_ex',\n",
       " 'a_ex',\n",
       " 'topo_vect',\n",
       " 'rho']"
      ]
     },
     "execution_count": 12,
     "metadata": {},
     "output_type": "execute_result"
    }
   ],
   "source": [
    "['year', #date\n",
    " 'month', #date\n",
    " 'day', #date\n",
    " 'hour_of_day', #date\n",
    " 'minute_of_hour', #date\n",
    " 'day_of_week', #date\n",
    " 'prod_p', # productions\n",
    " 'prod_q', # productions\n",
    " 'prod_v', # productions\n",
    " 'load_p', # loads\n",
    " 'load_q', # loads\n",
    " 'load_v', # loads\n",
    " 'p_or', # lines\n",
    " 'q_or', # lines\n",
    " 'v_or', # lines\n",
    " 'a_or', # lines\n",
    " 'p_ex', # lines\n",
    " 'q_ex', # lines\n",
    " 'v_ex', # lines\n",
    " 'a_ex', # lines\n",
    " 'topo_vect', \n",
    " 'rho' # line capacity used (current flow / thermal limit) \n",
    "]"
   ]
  },
  {
   "cell_type": "code",
   "execution_count": null,
   "metadata": {},
   "outputs": [],
   "source": []
  }
 ],
 "metadata": {
  "kernelspec": {
   "display_name": "venv",
   "language": "python",
   "name": "venv"
  },
  "language_info": {
   "codemirror_mode": {
    "name": "ipython",
    "version": 3
   },
   "file_extension": ".py",
   "mimetype": "text/x-python",
   "name": "python",
   "nbconvert_exporter": "python",
   "pygments_lexer": "ipython3",
   "version": "3.7.5"
  }
 },
 "nbformat": 4,
 "nbformat_minor": 2
}
